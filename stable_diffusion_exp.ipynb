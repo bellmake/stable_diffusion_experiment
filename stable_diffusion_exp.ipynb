{
 "cells": [
  {
   "cell_type": "code",
   "execution_count": 1,
   "metadata": {},
   "outputs": [
    {
     "name": "stdout",
     "output_type": "stream",
     "text": [
      "Requirement already satisfied: diffusers==0.8.0 in /home/joseph/miniconda3/envs/clip/lib/python3.11/site-packages (0.8.0)\n",
      "Requirement already satisfied: importlib-metadata in /home/joseph/miniconda3/envs/clip/lib/python3.11/site-packages (from diffusers==0.8.0) (7.1.0)\n",
      "Requirement already satisfied: filelock in /home/joseph/miniconda3/envs/clip/lib/python3.11/site-packages (from diffusers==0.8.0) (3.13.1)\n",
      "Requirement already satisfied: huggingface-hub>=0.10.0 in /home/joseph/miniconda3/envs/clip/lib/python3.11/site-packages (from diffusers==0.8.0) (0.23.4)\n",
      "Requirement already satisfied: numpy in /home/joseph/miniconda3/envs/clip/lib/python3.11/site-packages (from diffusers==0.8.0) (1.26.4)\n",
      "Requirement already satisfied: regex!=2019.12.17 in /home/joseph/miniconda3/envs/clip/lib/python3.11/site-packages (from diffusers==0.8.0) (2024.4.28)\n",
      "Requirement already satisfied: requests in /home/joseph/miniconda3/envs/clip/lib/python3.11/site-packages (from diffusers==0.8.0) (2.31.0)\n",
      "Requirement already satisfied: Pillow in /home/joseph/miniconda3/envs/clip/lib/python3.11/site-packages (from diffusers==0.8.0) (10.3.0)\n",
      "Requirement already satisfied: fsspec>=2023.5.0 in /home/joseph/miniconda3/envs/clip/lib/python3.11/site-packages (from huggingface-hub>=0.10.0->diffusers==0.8.0) (2024.3.1)\n",
      "Requirement already satisfied: packaging>=20.9 in /home/joseph/miniconda3/envs/clip/lib/python3.11/site-packages (from huggingface-hub>=0.10.0->diffusers==0.8.0) (24.0)\n",
      "Requirement already satisfied: pyyaml>=5.1 in /home/joseph/miniconda3/envs/clip/lib/python3.11/site-packages (from huggingface-hub>=0.10.0->diffusers==0.8.0) (6.0.1)\n",
      "Requirement already satisfied: tqdm>=4.42.1 in /home/joseph/miniconda3/envs/clip/lib/python3.11/site-packages (from huggingface-hub>=0.10.0->diffusers==0.8.0) (4.66.4)\n",
      "Requirement already satisfied: typing-extensions>=3.7.4.3 in /home/joseph/miniconda3/envs/clip/lib/python3.11/site-packages (from huggingface-hub>=0.10.0->diffusers==0.8.0) (4.9.0)\n",
      "Requirement already satisfied: zipp>=0.5 in /home/joseph/miniconda3/envs/clip/lib/python3.11/site-packages (from importlib-metadata->diffusers==0.8.0) (3.17.0)\n",
      "Requirement already satisfied: charset-normalizer<4,>=2 in /home/joseph/miniconda3/envs/clip/lib/python3.11/site-packages (from requests->diffusers==0.8.0) (2.0.4)\n",
      "Requirement already satisfied: idna<4,>=2.5 in /home/joseph/miniconda3/envs/clip/lib/python3.11/site-packages (from requests->diffusers==0.8.0) (3.7)\n",
      "Requirement already satisfied: urllib3<3,>=1.21.1 in /home/joseph/miniconda3/envs/clip/lib/python3.11/site-packages (from requests->diffusers==0.8.0) (2.1.0)\n",
      "Requirement already satisfied: certifi>=2017.4.17 in /home/joseph/miniconda3/envs/clip/lib/python3.11/site-packages (from requests->diffusers==0.8.0) (2024.6.2)\n",
      "Note: you may need to restart the kernel to use updated packages.\n",
      "Requirement already satisfied: transformers in /home/joseph/miniconda3/envs/clip/lib/python3.11/site-packages (4.42.3)\n",
      "Requirement already satisfied: scipy in /home/joseph/miniconda3/envs/clip/lib/python3.11/site-packages (1.13.0)\n",
      "Requirement already satisfied: ftfy in /home/joseph/miniconda3/envs/clip/lib/python3.11/site-packages (6.2.0)\n",
      "Requirement already satisfied: filelock in /home/joseph/miniconda3/envs/clip/lib/python3.11/site-packages (from transformers) (3.13.1)\n",
      "Requirement already satisfied: huggingface-hub<1.0,>=0.23.2 in /home/joseph/miniconda3/envs/clip/lib/python3.11/site-packages (from transformers) (0.23.4)\n",
      "Requirement already satisfied: numpy<2.0,>=1.17 in /home/joseph/miniconda3/envs/clip/lib/python3.11/site-packages (from transformers) (1.26.4)\n",
      "Requirement already satisfied: packaging>=20.0 in /home/joseph/miniconda3/envs/clip/lib/python3.11/site-packages (from transformers) (24.0)\n",
      "Requirement already satisfied: pyyaml>=5.1 in /home/joseph/miniconda3/envs/clip/lib/python3.11/site-packages (from transformers) (6.0.1)\n",
      "Requirement already satisfied: regex!=2019.12.17 in /home/joseph/miniconda3/envs/clip/lib/python3.11/site-packages (from transformers) (2024.4.28)\n",
      "Requirement already satisfied: requests in /home/joseph/miniconda3/envs/clip/lib/python3.11/site-packages (from transformers) (2.31.0)\n",
      "Requirement already satisfied: safetensors>=0.4.1 in /home/joseph/miniconda3/envs/clip/lib/python3.11/site-packages (from transformers) (0.4.3)\n",
      "Requirement already satisfied: tokenizers<0.20,>=0.19 in /home/joseph/miniconda3/envs/clip/lib/python3.11/site-packages (from transformers) (0.19.1)\n",
      "Requirement already satisfied: tqdm>=4.27 in /home/joseph/miniconda3/envs/clip/lib/python3.11/site-packages (from transformers) (4.66.4)\n",
      "Requirement already satisfied: wcwidth<0.3.0,>=0.2.12 in /home/joseph/miniconda3/envs/clip/lib/python3.11/site-packages (from ftfy) (0.2.13)\n",
      "Requirement already satisfied: fsspec>=2023.5.0 in /home/joseph/miniconda3/envs/clip/lib/python3.11/site-packages (from huggingface-hub<1.0,>=0.23.2->transformers) (2024.3.1)\n",
      "Requirement already satisfied: typing-extensions>=3.7.4.3 in /home/joseph/miniconda3/envs/clip/lib/python3.11/site-packages (from huggingface-hub<1.0,>=0.23.2->transformers) (4.9.0)\n",
      "Requirement already satisfied: charset-normalizer<4,>=2 in /home/joseph/miniconda3/envs/clip/lib/python3.11/site-packages (from requests->transformers) (2.0.4)\n",
      "Requirement already satisfied: idna<4,>=2.5 in /home/joseph/miniconda3/envs/clip/lib/python3.11/site-packages (from requests->transformers) (3.7)\n",
      "Requirement already satisfied: urllib3<3,>=1.21.1 in /home/joseph/miniconda3/envs/clip/lib/python3.11/site-packages (from requests->transformers) (2.1.0)\n",
      "Requirement already satisfied: certifi>=2017.4.17 in /home/joseph/miniconda3/envs/clip/lib/python3.11/site-packages (from requests->transformers) (2024.6.2)\n",
      "Note: you may need to restart the kernel to use updated packages.\n",
      "Requirement already satisfied: ipywidgets<8,>=7 in /home/joseph/miniconda3/envs/clip/lib/python3.11/site-packages (7.8.1)\n",
      "Requirement already satisfied: comm>=0.1.3 in /home/joseph/miniconda3/envs/clip/lib/python3.11/site-packages (from ipywidgets<8,>=7) (0.2.2)\n",
      "Requirement already satisfied: ipython-genutils~=0.2.0 in /home/joseph/miniconda3/envs/clip/lib/python3.11/site-packages (from ipywidgets<8,>=7) (0.2.0)\n",
      "Requirement already satisfied: traitlets>=4.3.1 in /home/joseph/miniconda3/envs/clip/lib/python3.11/site-packages (from ipywidgets<8,>=7) (5.14.3)\n",
      "Requirement already satisfied: widgetsnbextension~=3.6.6 in /home/joseph/miniconda3/envs/clip/lib/python3.11/site-packages (from ipywidgets<8,>=7) (3.6.6)\n",
      "Requirement already satisfied: ipython>=4.0.0 in /home/joseph/miniconda3/envs/clip/lib/python3.11/site-packages (from ipywidgets<8,>=7) (8.22.2)\n",
      "Requirement already satisfied: jupyterlab-widgets<3,>=1.0.0 in /home/joseph/miniconda3/envs/clip/lib/python3.11/site-packages (from ipywidgets<8,>=7) (1.1.7)\n",
      "Requirement already satisfied: decorator in /home/joseph/miniconda3/envs/clip/lib/python3.11/site-packages (from ipython>=4.0.0->ipywidgets<8,>=7) (5.1.1)\n",
      "Requirement already satisfied: jedi>=0.16 in /home/joseph/miniconda3/envs/clip/lib/python3.11/site-packages (from ipython>=4.0.0->ipywidgets<8,>=7) (0.19.1)\n",
      "Requirement already satisfied: matplotlib-inline in /home/joseph/miniconda3/envs/clip/lib/python3.11/site-packages (from ipython>=4.0.0->ipywidgets<8,>=7) (0.1.7)\n",
      "Requirement already satisfied: prompt-toolkit<3.1.0,>=3.0.41 in /home/joseph/miniconda3/envs/clip/lib/python3.11/site-packages (from ipython>=4.0.0->ipywidgets<8,>=7) (3.0.42)\n",
      "Requirement already satisfied: pygments>=2.4.0 in /home/joseph/miniconda3/envs/clip/lib/python3.11/site-packages (from ipython>=4.0.0->ipywidgets<8,>=7) (2.18.0)\n",
      "Requirement already satisfied: stack-data in /home/joseph/miniconda3/envs/clip/lib/python3.11/site-packages (from ipython>=4.0.0->ipywidgets<8,>=7) (0.6.2)\n",
      "Requirement already satisfied: pexpect>4.3 in /home/joseph/miniconda3/envs/clip/lib/python3.11/site-packages (from ipython>=4.0.0->ipywidgets<8,>=7) (4.9.0)\n",
      "Requirement already satisfied: notebook>=4.4.1 in /home/joseph/miniconda3/envs/clip/lib/python3.11/site-packages (from widgetsnbextension~=3.6.6->ipywidgets<8,>=7) (7.2.1)\n",
      "Requirement already satisfied: parso<0.9.0,>=0.8.3 in /home/joseph/miniconda3/envs/clip/lib/python3.11/site-packages (from jedi>=0.16->ipython>=4.0.0->ipywidgets<8,>=7) (0.8.4)\n",
      "Requirement already satisfied: jupyter-server<3,>=2.4.0 in /home/joseph/miniconda3/envs/clip/lib/python3.11/site-packages (from notebook>=4.4.1->widgetsnbextension~=3.6.6->ipywidgets<8,>=7) (2.14.1)\n",
      "Requirement already satisfied: jupyterlab-server<3,>=2.27.1 in /home/joseph/miniconda3/envs/clip/lib/python3.11/site-packages (from notebook>=4.4.1->widgetsnbextension~=3.6.6->ipywidgets<8,>=7) (2.27.2)\n",
      "Requirement already satisfied: jupyterlab<4.3,>=4.2.0 in /home/joseph/miniconda3/envs/clip/lib/python3.11/site-packages (from notebook>=4.4.1->widgetsnbextension~=3.6.6->ipywidgets<8,>=7) (4.2.3)\n",
      "Requirement already satisfied: notebook-shim<0.3,>=0.2 in /home/joseph/miniconda3/envs/clip/lib/python3.11/site-packages (from notebook>=4.4.1->widgetsnbextension~=3.6.6->ipywidgets<8,>=7) (0.2.4)\n",
      "Requirement already satisfied: tornado>=6.2.0 in /home/joseph/miniconda3/envs/clip/lib/python3.11/site-packages (from notebook>=4.4.1->widgetsnbextension~=3.6.6->ipywidgets<8,>=7) (6.4)\n",
      "Requirement already satisfied: ptyprocess>=0.5 in /home/joseph/miniconda3/envs/clip/lib/python3.11/site-packages (from pexpect>4.3->ipython>=4.0.0->ipywidgets<8,>=7) (0.7.0)\n",
      "Requirement already satisfied: wcwidth in /home/joseph/miniconda3/envs/clip/lib/python3.11/site-packages (from prompt-toolkit<3.1.0,>=3.0.41->ipython>=4.0.0->ipywidgets<8,>=7) (0.2.13)\n",
      "Requirement already satisfied: executing>=1.2.0 in /home/joseph/miniconda3/envs/clip/lib/python3.11/site-packages (from stack-data->ipython>=4.0.0->ipywidgets<8,>=7) (2.0.1)\n",
      "Requirement already satisfied: asttokens>=2.1.0 in /home/joseph/miniconda3/envs/clip/lib/python3.11/site-packages (from stack-data->ipython>=4.0.0->ipywidgets<8,>=7) (2.4.1)\n",
      "Requirement already satisfied: pure-eval in /home/joseph/miniconda3/envs/clip/lib/python3.11/site-packages (from stack-data->ipython>=4.0.0->ipywidgets<8,>=7) (0.2.2)\n",
      "Requirement already satisfied: six>=1.12.0 in /home/joseph/miniconda3/envs/clip/lib/python3.11/site-packages (from asttokens>=2.1.0->stack-data->ipython>=4.0.0->ipywidgets<8,>=7) (1.16.0)\n",
      "Requirement already satisfied: anyio>=3.1.0 in /home/joseph/miniconda3/envs/clip/lib/python3.11/site-packages (from jupyter-server<3,>=2.4.0->notebook>=4.4.1->widgetsnbextension~=3.6.6->ipywidgets<8,>=7) (4.4.0)\n",
      "Requirement already satisfied: argon2-cffi>=21.1 in /home/joseph/miniconda3/envs/clip/lib/python3.11/site-packages (from jupyter-server<3,>=2.4.0->notebook>=4.4.1->widgetsnbextension~=3.6.6->ipywidgets<8,>=7) (23.1.0)\n",
      "Requirement already satisfied: jinja2>=3.0.3 in /home/joseph/miniconda3/envs/clip/lib/python3.11/site-packages (from jupyter-server<3,>=2.4.0->notebook>=4.4.1->widgetsnbextension~=3.6.6->ipywidgets<8,>=7) (3.1.3)\n",
      "Requirement already satisfied: jupyter-client>=7.4.4 in /home/joseph/miniconda3/envs/clip/lib/python3.11/site-packages (from jupyter-server<3,>=2.4.0->notebook>=4.4.1->widgetsnbextension~=3.6.6->ipywidgets<8,>=7) (8.6.1)\n",
      "Requirement already satisfied: jupyter-core!=5.0.*,>=4.12 in /home/joseph/miniconda3/envs/clip/lib/python3.11/site-packages (from jupyter-server<3,>=2.4.0->notebook>=4.4.1->widgetsnbextension~=3.6.6->ipywidgets<8,>=7) (5.7.2)\n",
      "Requirement already satisfied: jupyter-events>=0.9.0 in /home/joseph/miniconda3/envs/clip/lib/python3.11/site-packages (from jupyter-server<3,>=2.4.0->notebook>=4.4.1->widgetsnbextension~=3.6.6->ipywidgets<8,>=7) (0.10.0)\n",
      "Requirement already satisfied: jupyter-server-terminals>=0.4.4 in /home/joseph/miniconda3/envs/clip/lib/python3.11/site-packages (from jupyter-server<3,>=2.4.0->notebook>=4.4.1->widgetsnbextension~=3.6.6->ipywidgets<8,>=7) (0.5.3)\n",
      "Requirement already satisfied: nbconvert>=6.4.4 in /home/joseph/miniconda3/envs/clip/lib/python3.11/site-packages (from jupyter-server<3,>=2.4.0->notebook>=4.4.1->widgetsnbextension~=3.6.6->ipywidgets<8,>=7) (7.16.4)\n",
      "Requirement already satisfied: nbformat>=5.3.0 in /home/joseph/miniconda3/envs/clip/lib/python3.11/site-packages (from jupyter-server<3,>=2.4.0->notebook>=4.4.1->widgetsnbextension~=3.6.6->ipywidgets<8,>=7) (5.10.4)\n",
      "Requirement already satisfied: overrides>=5.0 in /home/joseph/miniconda3/envs/clip/lib/python3.11/site-packages (from jupyter-server<3,>=2.4.0->notebook>=4.4.1->widgetsnbextension~=3.6.6->ipywidgets<8,>=7) (7.7.0)\n",
      "Requirement already satisfied: packaging>=22.0 in /home/joseph/miniconda3/envs/clip/lib/python3.11/site-packages (from jupyter-server<3,>=2.4.0->notebook>=4.4.1->widgetsnbextension~=3.6.6->ipywidgets<8,>=7) (24.0)\n",
      "Requirement already satisfied: prometheus-client>=0.9 in /home/joseph/miniconda3/envs/clip/lib/python3.11/site-packages (from jupyter-server<3,>=2.4.0->notebook>=4.4.1->widgetsnbextension~=3.6.6->ipywidgets<8,>=7) (0.20.0)\n",
      "Requirement already satisfied: pyzmq>=24 in /home/joseph/miniconda3/envs/clip/lib/python3.11/site-packages (from jupyter-server<3,>=2.4.0->notebook>=4.4.1->widgetsnbextension~=3.6.6->ipywidgets<8,>=7) (25.1.2)\n",
      "Requirement already satisfied: send2trash>=1.8.2 in /home/joseph/miniconda3/envs/clip/lib/python3.11/site-packages (from jupyter-server<3,>=2.4.0->notebook>=4.4.1->widgetsnbextension~=3.6.6->ipywidgets<8,>=7) (1.8.3)\n",
      "Requirement already satisfied: terminado>=0.8.3 in /home/joseph/miniconda3/envs/clip/lib/python3.11/site-packages (from jupyter-server<3,>=2.4.0->notebook>=4.4.1->widgetsnbextension~=3.6.6->ipywidgets<8,>=7) (0.18.1)\n",
      "Requirement already satisfied: websocket-client>=1.7 in /home/joseph/miniconda3/envs/clip/lib/python3.11/site-packages (from jupyter-server<3,>=2.4.0->notebook>=4.4.1->widgetsnbextension~=3.6.6->ipywidgets<8,>=7) (1.8.0)\n",
      "Requirement already satisfied: async-lru>=1.0.0 in /home/joseph/miniconda3/envs/clip/lib/python3.11/site-packages (from jupyterlab<4.3,>=4.2.0->notebook>=4.4.1->widgetsnbextension~=3.6.6->ipywidgets<8,>=7) (2.0.4)\n",
      "Requirement already satisfied: httpx>=0.25.0 in /home/joseph/miniconda3/envs/clip/lib/python3.11/site-packages (from jupyterlab<4.3,>=4.2.0->notebook>=4.4.1->widgetsnbextension~=3.6.6->ipywidgets<8,>=7) (0.27.0)\n",
      "Requirement already satisfied: ipykernel>=6.5.0 in /home/joseph/miniconda3/envs/clip/lib/python3.11/site-packages (from jupyterlab<4.3,>=4.2.0->notebook>=4.4.1->widgetsnbextension~=3.6.6->ipywidgets<8,>=7) (6.29.3)\n",
      "Requirement already satisfied: jupyter-lsp>=2.0.0 in /home/joseph/miniconda3/envs/clip/lib/python3.11/site-packages (from jupyterlab<4.3,>=4.2.0->notebook>=4.4.1->widgetsnbextension~=3.6.6->ipywidgets<8,>=7) (2.2.5)\n",
      "Requirement already satisfied: setuptools>=40.1.0 in /home/joseph/miniconda3/envs/clip/lib/python3.11/site-packages (from jupyterlab<4.3,>=4.2.0->notebook>=4.4.1->widgetsnbextension~=3.6.6->ipywidgets<8,>=7) (68.2.2)\n",
      "Requirement already satisfied: babel>=2.10 in /home/joseph/miniconda3/envs/clip/lib/python3.11/site-packages (from jupyterlab-server<3,>=2.27.1->notebook>=4.4.1->widgetsnbextension~=3.6.6->ipywidgets<8,>=7) (2.15.0)\n",
      "Requirement already satisfied: json5>=0.9.0 in /home/joseph/miniconda3/envs/clip/lib/python3.11/site-packages (from jupyterlab-server<3,>=2.27.1->notebook>=4.4.1->widgetsnbextension~=3.6.6->ipywidgets<8,>=7) (0.9.25)\n",
      "Requirement already satisfied: jsonschema>=4.18.0 in /home/joseph/miniconda3/envs/clip/lib/python3.11/site-packages (from jupyterlab-server<3,>=2.27.1->notebook>=4.4.1->widgetsnbextension~=3.6.6->ipywidgets<8,>=7) (4.22.0)\n",
      "Requirement already satisfied: requests>=2.31 in /home/joseph/miniconda3/envs/clip/lib/python3.11/site-packages (from jupyterlab-server<3,>=2.27.1->notebook>=4.4.1->widgetsnbextension~=3.6.6->ipywidgets<8,>=7) (2.31.0)\n",
      "Requirement already satisfied: idna>=2.8 in /home/joseph/miniconda3/envs/clip/lib/python3.11/site-packages (from anyio>=3.1.0->jupyter-server<3,>=2.4.0->notebook>=4.4.1->widgetsnbextension~=3.6.6->ipywidgets<8,>=7) (3.7)\n",
      "Requirement already satisfied: sniffio>=1.1 in /home/joseph/miniconda3/envs/clip/lib/python3.11/site-packages (from anyio>=3.1.0->jupyter-server<3,>=2.4.0->notebook>=4.4.1->widgetsnbextension~=3.6.6->ipywidgets<8,>=7) (1.3.1)\n",
      "Requirement already satisfied: argon2-cffi-bindings in /home/joseph/miniconda3/envs/clip/lib/python3.11/site-packages (from argon2-cffi>=21.1->jupyter-server<3,>=2.4.0->notebook>=4.4.1->widgetsnbextension~=3.6.6->ipywidgets<8,>=7) (21.2.0)\n",
      "Requirement already satisfied: certifi in /home/joseph/miniconda3/envs/clip/lib/python3.11/site-packages (from httpx>=0.25.0->jupyterlab<4.3,>=4.2.0->notebook>=4.4.1->widgetsnbextension~=3.6.6->ipywidgets<8,>=7) (2024.6.2)\n",
      "Requirement already satisfied: httpcore==1.* in /home/joseph/miniconda3/envs/clip/lib/python3.11/site-packages (from httpx>=0.25.0->jupyterlab<4.3,>=4.2.0->notebook>=4.4.1->widgetsnbextension~=3.6.6->ipywidgets<8,>=7) (1.0.5)\n",
      "Requirement already satisfied: h11<0.15,>=0.13 in /home/joseph/miniconda3/envs/clip/lib/python3.11/site-packages (from httpcore==1.*->httpx>=0.25.0->jupyterlab<4.3,>=4.2.0->notebook>=4.4.1->widgetsnbextension~=3.6.6->ipywidgets<8,>=7) (0.14.0)\n",
      "Requirement already satisfied: debugpy>=1.6.5 in /home/joseph/miniconda3/envs/clip/lib/python3.11/site-packages (from ipykernel>=6.5.0->jupyterlab<4.3,>=4.2.0->notebook>=4.4.1->widgetsnbextension~=3.6.6->ipywidgets<8,>=7) (1.6.7)\n",
      "Requirement already satisfied: nest-asyncio in /home/joseph/miniconda3/envs/clip/lib/python3.11/site-packages (from ipykernel>=6.5.0->jupyterlab<4.3,>=4.2.0->notebook>=4.4.1->widgetsnbextension~=3.6.6->ipywidgets<8,>=7) (1.6.0)\n",
      "Requirement already satisfied: psutil in /home/joseph/miniconda3/envs/clip/lib/python3.11/site-packages (from ipykernel>=6.5.0->jupyterlab<4.3,>=4.2.0->notebook>=4.4.1->widgetsnbextension~=3.6.6->ipywidgets<8,>=7) (5.9.8)\n",
      "Requirement already satisfied: MarkupSafe>=2.0 in /home/joseph/miniconda3/envs/clip/lib/python3.11/site-packages (from jinja2>=3.0.3->jupyter-server<3,>=2.4.0->notebook>=4.4.1->widgetsnbextension~=3.6.6->ipywidgets<8,>=7) (2.1.3)\n",
      "Requirement already satisfied: attrs>=22.2.0 in /home/joseph/miniconda3/envs/clip/lib/python3.11/site-packages (from jsonschema>=4.18.0->jupyterlab-server<3,>=2.27.1->notebook>=4.4.1->widgetsnbextension~=3.6.6->ipywidgets<8,>=7) (23.2.0)\n",
      "Requirement already satisfied: jsonschema-specifications>=2023.03.6 in /home/joseph/miniconda3/envs/clip/lib/python3.11/site-packages (from jsonschema>=4.18.0->jupyterlab-server<3,>=2.27.1->notebook>=4.4.1->widgetsnbextension~=3.6.6->ipywidgets<8,>=7) (2023.12.1)\n",
      "Requirement already satisfied: referencing>=0.28.4 in /home/joseph/miniconda3/envs/clip/lib/python3.11/site-packages (from jsonschema>=4.18.0->jupyterlab-server<3,>=2.27.1->notebook>=4.4.1->widgetsnbextension~=3.6.6->ipywidgets<8,>=7) (0.35.1)\n",
      "Requirement already satisfied: rpds-py>=0.7.1 in /home/joseph/miniconda3/envs/clip/lib/python3.11/site-packages (from jsonschema>=4.18.0->jupyterlab-server<3,>=2.27.1->notebook>=4.4.1->widgetsnbextension~=3.6.6->ipywidgets<8,>=7) (0.18.1)\n",
      "Requirement already satisfied: python-dateutil>=2.8.2 in /home/joseph/miniconda3/envs/clip/lib/python3.11/site-packages (from jupyter-client>=7.4.4->jupyter-server<3,>=2.4.0->notebook>=4.4.1->widgetsnbextension~=3.6.6->ipywidgets<8,>=7) (2.9.0)\n",
      "Requirement already satisfied: platformdirs>=2.5 in /home/joseph/miniconda3/envs/clip/lib/python3.11/site-packages (from jupyter-core!=5.0.*,>=4.12->jupyter-server<3,>=2.4.0->notebook>=4.4.1->widgetsnbextension~=3.6.6->ipywidgets<8,>=7) (3.11.0)\n",
      "Requirement already satisfied: python-json-logger>=2.0.4 in /home/joseph/miniconda3/envs/clip/lib/python3.11/site-packages (from jupyter-events>=0.9.0->jupyter-server<3,>=2.4.0->notebook>=4.4.1->widgetsnbextension~=3.6.6->ipywidgets<8,>=7) (2.0.7)\n",
      "Requirement already satisfied: pyyaml>=5.3 in /home/joseph/miniconda3/envs/clip/lib/python3.11/site-packages (from jupyter-events>=0.9.0->jupyter-server<3,>=2.4.0->notebook>=4.4.1->widgetsnbextension~=3.6.6->ipywidgets<8,>=7) (6.0.1)\n",
      "Requirement already satisfied: rfc3339-validator in /home/joseph/miniconda3/envs/clip/lib/python3.11/site-packages (from jupyter-events>=0.9.0->jupyter-server<3,>=2.4.0->notebook>=4.4.1->widgetsnbextension~=3.6.6->ipywidgets<8,>=7) (0.1.4)\n",
      "Requirement already satisfied: rfc3986-validator>=0.1.1 in /home/joseph/miniconda3/envs/clip/lib/python3.11/site-packages (from jupyter-events>=0.9.0->jupyter-server<3,>=2.4.0->notebook>=4.4.1->widgetsnbextension~=3.6.6->ipywidgets<8,>=7) (0.1.1)\n",
      "Requirement already satisfied: beautifulsoup4 in /home/joseph/miniconda3/envs/clip/lib/python3.11/site-packages (from nbconvert>=6.4.4->jupyter-server<3,>=2.4.0->notebook>=4.4.1->widgetsnbextension~=3.6.6->ipywidgets<8,>=7) (4.12.3)\n",
      "Requirement already satisfied: bleach!=5.0.0 in /home/joseph/miniconda3/envs/clip/lib/python3.11/site-packages (from nbconvert>=6.4.4->jupyter-server<3,>=2.4.0->notebook>=4.4.1->widgetsnbextension~=3.6.6->ipywidgets<8,>=7) (6.1.0)\n",
      "Requirement already satisfied: defusedxml in /home/joseph/miniconda3/envs/clip/lib/python3.11/site-packages (from nbconvert>=6.4.4->jupyter-server<3,>=2.4.0->notebook>=4.4.1->widgetsnbextension~=3.6.6->ipywidgets<8,>=7) (0.7.1)\n",
      "Requirement already satisfied: jupyterlab-pygments in /home/joseph/miniconda3/envs/clip/lib/python3.11/site-packages (from nbconvert>=6.4.4->jupyter-server<3,>=2.4.0->notebook>=4.4.1->widgetsnbextension~=3.6.6->ipywidgets<8,>=7) (0.3.0)\n",
      "Requirement already satisfied: mistune<4,>=2.0.3 in /home/joseph/miniconda3/envs/clip/lib/python3.11/site-packages (from nbconvert>=6.4.4->jupyter-server<3,>=2.4.0->notebook>=4.4.1->widgetsnbextension~=3.6.6->ipywidgets<8,>=7) (3.0.2)\n",
      "Requirement already satisfied: nbclient>=0.5.0 in /home/joseph/miniconda3/envs/clip/lib/python3.11/site-packages (from nbconvert>=6.4.4->jupyter-server<3,>=2.4.0->notebook>=4.4.1->widgetsnbextension~=3.6.6->ipywidgets<8,>=7) (0.10.0)\n",
      "Requirement already satisfied: pandocfilters>=1.4.1 in /home/joseph/miniconda3/envs/clip/lib/python3.11/site-packages (from nbconvert>=6.4.4->jupyter-server<3,>=2.4.0->notebook>=4.4.1->widgetsnbextension~=3.6.6->ipywidgets<8,>=7) (1.5.1)\n",
      "Requirement already satisfied: tinycss2 in /home/joseph/miniconda3/envs/clip/lib/python3.11/site-packages (from nbconvert>=6.4.4->jupyter-server<3,>=2.4.0->notebook>=4.4.1->widgetsnbextension~=3.6.6->ipywidgets<8,>=7) (1.3.0)\n",
      "Requirement already satisfied: fastjsonschema>=2.15 in /home/joseph/miniconda3/envs/clip/lib/python3.11/site-packages (from nbformat>=5.3.0->jupyter-server<3,>=2.4.0->notebook>=4.4.1->widgetsnbextension~=3.6.6->ipywidgets<8,>=7) (2.20.0)\n",
      "Requirement already satisfied: charset-normalizer<4,>=2 in /home/joseph/miniconda3/envs/clip/lib/python3.11/site-packages (from requests>=2.31->jupyterlab-server<3,>=2.27.1->notebook>=4.4.1->widgetsnbextension~=3.6.6->ipywidgets<8,>=7) (2.0.4)\n",
      "Requirement already satisfied: urllib3<3,>=1.21.1 in /home/joseph/miniconda3/envs/clip/lib/python3.11/site-packages (from requests>=2.31->jupyterlab-server<3,>=2.27.1->notebook>=4.4.1->widgetsnbextension~=3.6.6->ipywidgets<8,>=7) (2.1.0)\n",
      "Requirement already satisfied: webencodings in /home/joseph/miniconda3/envs/clip/lib/python3.11/site-packages (from bleach!=5.0.0->nbconvert>=6.4.4->jupyter-server<3,>=2.4.0->notebook>=4.4.1->widgetsnbextension~=3.6.6->ipywidgets<8,>=7) (0.5.1)\n",
      "Requirement already satisfied: fqdn in /home/joseph/miniconda3/envs/clip/lib/python3.11/site-packages (from jsonschema[format-nongpl]>=4.18.0->jupyter-events>=0.9.0->jupyter-server<3,>=2.4.0->notebook>=4.4.1->widgetsnbextension~=3.6.6->ipywidgets<8,>=7) (1.5.1)\n",
      "Requirement already satisfied: isoduration in /home/joseph/miniconda3/envs/clip/lib/python3.11/site-packages (from jsonschema[format-nongpl]>=4.18.0->jupyter-events>=0.9.0->jupyter-server<3,>=2.4.0->notebook>=4.4.1->widgetsnbextension~=3.6.6->ipywidgets<8,>=7) (20.11.0)\n",
      "Requirement already satisfied: jsonpointer>1.13 in /home/joseph/miniconda3/envs/clip/lib/python3.11/site-packages (from jsonschema[format-nongpl]>=4.18.0->jupyter-events>=0.9.0->jupyter-server<3,>=2.4.0->notebook>=4.4.1->widgetsnbextension~=3.6.6->ipywidgets<8,>=7) (3.0.0)\n",
      "Requirement already satisfied: uri-template in /home/joseph/miniconda3/envs/clip/lib/python3.11/site-packages (from jsonschema[format-nongpl]>=4.18.0->jupyter-events>=0.9.0->jupyter-server<3,>=2.4.0->notebook>=4.4.1->widgetsnbextension~=3.6.6->ipywidgets<8,>=7) (1.3.0)\n",
      "Requirement already satisfied: webcolors>=1.11 in /home/joseph/miniconda3/envs/clip/lib/python3.11/site-packages (from jsonschema[format-nongpl]>=4.18.0->jupyter-events>=0.9.0->jupyter-server<3,>=2.4.0->notebook>=4.4.1->widgetsnbextension~=3.6.6->ipywidgets<8,>=7) (24.6.0)\n",
      "Requirement already satisfied: cffi>=1.0.1 in /home/joseph/miniconda3/envs/clip/lib/python3.11/site-packages (from argon2-cffi-bindings->argon2-cffi>=21.1->jupyter-server<3,>=2.4.0->notebook>=4.4.1->widgetsnbextension~=3.6.6->ipywidgets<8,>=7) (1.16.0)\n",
      "Requirement already satisfied: soupsieve>1.2 in /home/joseph/miniconda3/envs/clip/lib/python3.11/site-packages (from beautifulsoup4->nbconvert>=6.4.4->jupyter-server<3,>=2.4.0->notebook>=4.4.1->widgetsnbextension~=3.6.6->ipywidgets<8,>=7) (2.5)\n",
      "Requirement already satisfied: pycparser in /home/joseph/miniconda3/envs/clip/lib/python3.11/site-packages (from cffi>=1.0.1->argon2-cffi-bindings->argon2-cffi>=21.1->jupyter-server<3,>=2.4.0->notebook>=4.4.1->widgetsnbextension~=3.6.6->ipywidgets<8,>=7) (2.22)\n",
      "Requirement already satisfied: arrow>=0.15.0 in /home/joseph/miniconda3/envs/clip/lib/python3.11/site-packages (from isoduration->jsonschema[format-nongpl]>=4.18.0->jupyter-events>=0.9.0->jupyter-server<3,>=2.4.0->notebook>=4.4.1->widgetsnbextension~=3.6.6->ipywidgets<8,>=7) (1.3.0)\n",
      "Requirement already satisfied: types-python-dateutil>=2.8.10 in /home/joseph/miniconda3/envs/clip/lib/python3.11/site-packages (from arrow>=0.15.0->isoduration->jsonschema[format-nongpl]>=4.18.0->jupyter-events>=0.9.0->jupyter-server<3,>=2.4.0->notebook>=4.4.1->widgetsnbextension~=3.6.6->ipywidgets<8,>=7) (2.9.0.20240316)\n",
      "Note: you may need to restart the kernel to use updated packages.\n"
     ]
    }
   ],
   "source": [
    "%pip install diffusers==0.8.0\n",
    "%pip install transformers scipy ftfy\n",
    "%pip install \"ipywidgets>=7,<8\""
   ]
  },
  {
   "cell_type": "code",
   "execution_count": 2,
   "metadata": {},
   "outputs": [
    {
     "data": {
      "application/vnd.jupyter.widget-view+json": {
       "model_id": "069b6bc33f954113bc4eeb6f682e3246",
       "version_major": 2,
       "version_minor": 0
      },
      "text/plain": [
       "VBox(children=(HTML(value='<center> <img\\nsrc=https://huggingface.co/front/assets/huggingface_logo-noborder.sv…"
      ]
     },
     "metadata": {},
     "output_type": "display_data"
    }
   ],
   "source": [
    "import os\n",
    "from PIL import Image, ImageDraw\n",
    "import cv2\n",
    "import numpy as np\n",
    "from IPython.display import HTML\n",
    "from base64 import b64encode\n",
    "\n",
    "import torch\n",
    "from torch import autocast\n",
    "from torch.nn import functional as F\n",
    "from diffusers import StableDiffusionPipeline, AutoencoderKL\n",
    "from diffusers import UNet2DConditionModel, PNDMScheduler, LMSDiscreteScheduler\n",
    "from diffusers.schedulers.scheduling_ddim import DDIMScheduler\n",
    "from transformers import CLIPTextModel, CLIPTokenizer\n",
    "from tqdm.auto import tqdm\n",
    "from huggingface_hub import notebook_login\n",
    "\n",
    "device = 'cuda'\n",
    "notebook_login()"
   ]
  },
  {
   "cell_type": "code",
   "execution_count": 3,
   "metadata": {},
   "outputs": [
    {
     "name": "stderr",
     "output_type": "stream",
     "text": [
      "Cannot initialize model with low cpu memory usage because `accelerate` was not found in the environment. Defaulting to `low_cpu_mem_usage=False`. It is strongly recommended to install `accelerate` for faster and less memory-intense model loading. You can do so with: \n",
      "```\n",
      "pip install accelerate\n",
      "```\n",
      ".\n",
      "/home/joseph/miniconda3/envs/clip/lib/python3.11/site-packages/huggingface_hub/file_download.py:1132: FutureWarning: `resume_download` is deprecated and will be removed in version 1.0.0. Downloads always resume when possible. If you want to force a new download, use `force_download=True`.\n",
      "  warnings.warn(\n"
     ]
    },
    {
     "data": {
      "application/vnd.jupyter.widget-view+json": {
       "model_id": "914e57a6f60b45d2a2d4a99cd3dae3ff",
       "version_major": 2,
       "version_minor": 0
      },
      "text/plain": [
       "Fetching 16 files:   0%|          | 0/16 [00:00<?, ?it/s]"
      ]
     },
     "metadata": {},
     "output_type": "display_data"
    },
    {
     "name": "stderr",
     "output_type": "stream",
     "text": [
      "/home/joseph/miniconda3/envs/clip/lib/python3.11/site-packages/transformers/models/clip/feature_extraction_clip.py:28: FutureWarning: The class CLIPFeatureExtractor is deprecated and will be removed in version 5 of Transformers. Please use CLIPImageProcessor instead.\n",
      "  warnings.warn(\n"
     ]
    }
   ],
   "source": [
    "# make sure you're logged in with `huggingface-cli login`\n",
    "pipe = StableDiffusionPipeline.from_pretrained(\n",
    "    'CompVis/stable-diffusion-v1-4', revision='fp16',\n",
    "    torch_dtype=torch.float16, use_auth_token=True)\n",
    "pipe = pipe.to(device)"
   ]
  },
  {
   "cell_type": "code",
   "execution_count": 4,
   "metadata": {},
   "outputs": [
    {
     "data": {
      "application/vnd.jupyter.widget-view+json": {
       "model_id": "84e98a31602b40ecba239b08c3c048ae",
       "version_major": 2,
       "version_minor": 0
      },
      "text/plain": [
       "Fetching 33 files:   0%|          | 0/33 [00:00<?, ?it/s]"
      ]
     },
     "metadata": {},
     "output_type": "display_data"
    },
    {
     "data": {
      "application/vnd.jupyter.widget-view+json": {
       "model_id": "6d2078778a1e4d84bc9de42ade13b7f7",
       "version_major": 2,
       "version_minor": 0
      },
      "text/plain": [
       "(…)fusion_pytorch_model.non_ema.safetensors:  38%|###7      | 1.29G/3.44G [00:00<?, ?B/s]"
      ]
     },
     "metadata": {},
     "output_type": "display_data"
    },
    {
     "data": {
      "application/vnd.jupyter.widget-view+json": {
       "model_id": "2ae499c810194b77894827e337aca629",
       "version_major": 2,
       "version_minor": 0
      },
      "text/plain": [
       "diffusion_pytorch_model.non_ema.bin:  92%|#########1| 3.16G/3.44G [00:00<?, ?B/s]"
      ]
     },
     "metadata": {},
     "output_type": "display_data"
    },
    {
     "data": {
      "application/vnd.jupyter.widget-view+json": {
       "model_id": "b6b4489fe3d5404e9deaad298f625e13",
       "version_major": 2,
       "version_minor": 0
      },
      "text/plain": [
       "diffusion_pytorch_model.bin:  85%|########5 | 2.94G/3.44G [00:00<?, ?B/s]"
      ]
     },
     "metadata": {},
     "output_type": "display_data"
    },
    {
     "data": {
      "application/vnd.jupyter.widget-view+json": {
       "model_id": "6844c54c6e3d4a5fb6c7a99a388c67b7",
       "version_major": 2,
       "version_minor": 0
      },
      "text/plain": [
       "diffusion_pytorch_model.fp16.bin:  99%|#########8| 1.70G/1.72G [00:00<?, ?B/s]"
      ]
     },
     "metadata": {},
     "output_type": "display_data"
    },
    {
     "ename": "TypeError",
     "evalue": "attribute name must be string, not 'NoneType'",
     "output_type": "error",
     "traceback": [
      "\u001b[0;31m---------------------------------------------------------------------------\u001b[0m",
      "\u001b[0;31mTypeError\u001b[0m                                 Traceback (most recent call last)",
      "Cell \u001b[0;32mIn[4], line 8\u001b[0m\n\u001b[1;32m      4\u001b[0m model_id \u001b[38;5;241m=\u001b[39m \u001b[38;5;124m\"\u001b[39m\u001b[38;5;124mCompVis/stable-diffusion-v1-4\u001b[39m\u001b[38;5;124m\"\u001b[39m\n\u001b[1;32m      5\u001b[0m device \u001b[38;5;241m=\u001b[39m \u001b[38;5;124m\"\u001b[39m\u001b[38;5;124mcuda\u001b[39m\u001b[38;5;124m\"\u001b[39m\n\u001b[0;32m----> 8\u001b[0m pipe \u001b[38;5;241m=\u001b[39m \u001b[43mStableDiffusionPipeline\u001b[49m\u001b[38;5;241;43m.\u001b[39;49m\u001b[43mfrom_pretrained\u001b[49m\u001b[43m(\u001b[49m\u001b[43mmodel_id\u001b[49m\u001b[43m,\u001b[49m\u001b[43m \u001b[49m\u001b[43mtorch_dtype\u001b[49m\u001b[38;5;241;43m=\u001b[39;49m\u001b[43mtorch\u001b[49m\u001b[38;5;241;43m.\u001b[39;49m\u001b[43mfloat16\u001b[49m\u001b[43m)\u001b[49m\n\u001b[1;32m      9\u001b[0m pipe \u001b[38;5;241m=\u001b[39m pipe\u001b[38;5;241m.\u001b[39mto(device)\n\u001b[1;32m     11\u001b[0m prompt \u001b[38;5;241m=\u001b[39m \u001b[38;5;124m\"\u001b[39m\u001b[38;5;124ma photo of an astronaut riding a horse on mars\u001b[39m\u001b[38;5;124m\"\u001b[39m\n",
      "File \u001b[0;32m~/miniconda3/envs/clip/lib/python3.11/site-packages/diffusers/pipeline_utils.py:239\u001b[0m, in \u001b[0;36mDiffusionPipeline.from_pretrained\u001b[0;34m(cls, pretrained_model_name_or_path, **kwargs)\u001b[0m\n\u001b[1;32m    236\u001b[0m     \u001b[38;5;28;01mif\u001b[39;00m \u001b[38;5;28missubclass\u001b[39m(class_obj, class_candidate):\n\u001b[1;32m    237\u001b[0m         load_method_name \u001b[38;5;241m=\u001b[39m importable_classes[class_name][\u001b[38;5;241m1\u001b[39m]\n\u001b[0;32m--> 239\u001b[0m load_method \u001b[38;5;241m=\u001b[39m \u001b[38;5;28mgetattr\u001b[39m(class_obj, load_method_name)\n\u001b[1;32m    241\u001b[0m loading_kwargs \u001b[38;5;241m=\u001b[39m {}\n\u001b[1;32m    242\u001b[0m \u001b[38;5;28;01mif\u001b[39;00m \u001b[38;5;28missubclass\u001b[39m(class_obj, torch\u001b[38;5;241m.\u001b[39mnn\u001b[38;5;241m.\u001b[39mModule):\n",
      "\u001b[0;31mTypeError\u001b[0m: attribute name must be string, not 'NoneType'"
     ]
    }
   ],
   "source": [
    "import torch\n",
    "from diffusers import StableDiffusionPipeline\n",
    "\n",
    "model_id = \"CompVis/stable-diffusion-v1-4\"\n",
    "device = \"cuda\"\n",
    "\n",
    "\n",
    "pipe = StableDiffusionPipeline.from_pretrained(model_id, torch_dtype=torch.float16)\n",
    "pipe = pipe.to(device)\n",
    "\n",
    "prompt = \"a photo of an astronaut riding a horse on mars\"\n",
    "image = pipe(prompt).images[0]  \n",
    "    \n",
    "image.save(\"astronaut_rides_horse.png\")\n"
   ]
  },
  {
   "cell_type": "code",
   "execution_count": null,
   "metadata": {},
   "outputs": [],
   "source": []
  }
 ],
 "metadata": {
  "kernelspec": {
   "display_name": "clip",
   "language": "python",
   "name": "python3"
  },
  "language_info": {
   "codemirror_mode": {
    "name": "ipython",
    "version": 3
   },
   "file_extension": ".py",
   "mimetype": "text/x-python",
   "name": "python",
   "nbconvert_exporter": "python",
   "pygments_lexer": "ipython3",
   "version": "3.11.9"
  }
 },
 "nbformat": 4,
 "nbformat_minor": 2
}
